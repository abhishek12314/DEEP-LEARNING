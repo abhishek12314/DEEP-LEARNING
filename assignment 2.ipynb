{
  "nbformat": 4,
  "nbformat_minor": 0,
  "metadata": {
    "colab": {
      "provenance": []
    },
    "kernelspec": {
      "name": "python3",
      "display_name": "Python 3"
    },
    "language_info": {
      "name": "python"
    }
  },
  "cells": [
    {
      "cell_type": "code",
      "execution_count": 1,
      "metadata": {
        "id": "jFLShWv7Tb20"
      },
      "outputs": [],
      "source": [
        "import numpy as np\n",
        "import tensorflow as tf\n",
        "from tensorflow.keras.datasets import cifar10\n",
        "from tensorflow.keras.applications import VGG16\n",
        "from tensorflow.keras.models import Sequential\n",
        "from tensorflow.keras.layers import Flatten, Dense, Dropout\n",
        "from tensorflow.keras.optimizers import Adam\n",
        "from sklearn.model_selection import train_test_split\n",
        "from sklearn.metrics import accuracy_score, classification_report"
      ]
    },
    {
      "cell_type": "code",
      "source": [
        "(X_train, y_train), (X_test, y_test) = cifar10.load_data()\n",
        "X_train, X_val, y_train, y_val = train_test_split(X_train, y_train, test_size=0.2, random_state=42)"
      ],
      "metadata": {
        "colab": {
          "base_uri": "https://localhost:8080/"
        },
        "id": "rzLBld5ITlFL",
        "outputId": "a9f9bdb6-f76e-4a20-816c-275e6f6d1b75"
      },
      "execution_count": 2,
      "outputs": [
        {
          "output_type": "stream",
          "name": "stdout",
          "text": [
            "Downloading data from https://www.cs.toronto.edu/~kriz/cifar-10-python.tar.gz\n",
            "170498071/170498071 [==============================] - 4s 0us/step\n"
          ]
        }
      ]
    },
    {
      "cell_type": "code",
      "source": [
        "X_train = X_train.astype('float32') / 255.0\n",
        "X_val = X_val.astype('float32') / 255.0\n",
        "X_test = X_test.astype('float32') / 255.0"
      ],
      "metadata": {
        "id": "7cYliqJnTpXp"
      },
      "execution_count": 3,
      "outputs": []
    },
    {
      "cell_type": "code",
      "source": [
        "base_model = VGG16(weights='imagenet', include_top=False, input_shape=(32, 32, 3))"
      ],
      "metadata": {
        "colab": {
          "base_uri": "https://localhost:8080/"
        },
        "id": "xiSw81nMTsxF",
        "outputId": "ceeb2f68-cfd2-48db-84e6-15994a25568c"
      },
      "execution_count": 4,
      "outputs": [
        {
          "output_type": "stream",
          "name": "stdout",
          "text": [
            "Downloading data from https://storage.googleapis.com/tensorflow/keras-applications/vgg16/vgg16_weights_tf_dim_ordering_tf_kernels_notop.h5\n",
            "58889256/58889256 [==============================] - 0s 0us/step\n"
          ]
        }
      ]
    },
    {
      "cell_type": "code",
      "source": [
        "for layer in base_model.layers:\n",
        "    layer.trainable = False"
      ],
      "metadata": {
        "id": "i9kDxMOfTwcA"
      },
      "execution_count": 5,
      "outputs": []
    },
    {
      "cell_type": "code",
      "source": [
        "model = Sequential([\n",
        "    base_model,\n",
        "    Flatten(),\n",
        "    Dense(512, activation='relu'),\n",
        "    Dropout(0.5),\n",
        "    Dense(10, activation='softmax')  # Output layer for 10 classes in CIFAR-10\n",
        "])"
      ],
      "metadata": {
        "id": "qBMYDx30TzqB"
      },
      "execution_count": 6,
      "outputs": []
    },
    {
      "cell_type": "code",
      "source": [
        "model.compile(optimizer=Adam(lr=1e-4), loss='sparse_categorical_crossentropy', metrics=['accuracy'])"
      ],
      "metadata": {
        "colab": {
          "base_uri": "https://localhost:8080/"
        },
        "id": "K8BwEkElT3Wf",
        "outputId": "83ac1656-2fcc-463d-edc9-7d78d50406b4"
      },
      "execution_count": 7,
      "outputs": [
        {
          "output_type": "stream",
          "name": "stderr",
          "text": [
            "WARNING:absl:`lr` is deprecated in Keras optimizer, please use `learning_rate` or use the legacy optimizer, e.g.,tf.keras.optimizers.legacy.Adam.\n"
          ]
        }
      ]
    },
    {
      "cell_type": "code",
      "source": [
        "history = model.fit(\n",
        "    X_train, y_train,\n",
        "    epochs=10,\n",
        "    batch_size=32,\n",
        "    validation_data=(X_val, y_val),\n",
        "    verbose=1\n",
        ")"
      ],
      "metadata": {
        "colab": {
          "base_uri": "https://localhost:8080/"
        },
        "id": "qYcXb_sTT6ff",
        "outputId": "1aa4b8eb-fe70-4bfa-8637-6d9c82ba1758"
      },
      "execution_count": 8,
      "outputs": [
        {
          "output_type": "stream",
          "name": "stdout",
          "text": [
            "Epoch 1/10\n",
            "1250/1250 [==============================] - 630s 504ms/step - loss: 1.4659 - accuracy: 0.4864 - val_loss: 1.2699 - val_accuracy: 0.5515\n",
            "Epoch 2/10\n",
            "1250/1250 [==============================] - 614s 492ms/step - loss: 1.2789 - accuracy: 0.5493 - val_loss: 1.2020 - val_accuracy: 0.5790\n",
            "Epoch 3/10\n",
            "1250/1250 [==============================] - 615s 492ms/step - loss: 1.2281 - accuracy: 0.5699 - val_loss: 1.1778 - val_accuracy: 0.5886\n",
            "Epoch 4/10\n",
            "1250/1250 [==============================] - 583s 466ms/step - loss: 1.1892 - accuracy: 0.5830 - val_loss: 1.1490 - val_accuracy: 0.5960\n",
            "Epoch 5/10\n",
            "1250/1250 [==============================] - 615s 492ms/step - loss: 1.1669 - accuracy: 0.5913 - val_loss: 1.1312 - val_accuracy: 0.6008\n",
            "Epoch 6/10\n",
            "1250/1250 [==============================] - 585s 468ms/step - loss: 1.1362 - accuracy: 0.6011 - val_loss: 1.1339 - val_accuracy: 0.6007\n",
            "Epoch 7/10\n",
            "1250/1250 [==============================] - 589s 471ms/step - loss: 1.1156 - accuracy: 0.6076 - val_loss: 1.1101 - val_accuracy: 0.6120\n",
            "Epoch 8/10\n",
            "1250/1250 [==============================] - 596s 477ms/step - loss: 1.0937 - accuracy: 0.6138 - val_loss: 1.1048 - val_accuracy: 0.6134\n",
            "Epoch 9/10\n",
            "1250/1250 [==============================] - 578s 462ms/step - loss: 1.0748 - accuracy: 0.6237 - val_loss: 1.1022 - val_accuracy: 0.6119\n",
            "Epoch 10/10\n",
            "1250/1250 [==============================] - 579s 463ms/step - loss: 1.0576 - accuracy: 0.6277 - val_loss: 1.0910 - val_accuracy: 0.6181\n"
          ]
        }
      ]
    }
  ]
}